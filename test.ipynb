{
 "cells": [
  {
   "cell_type": "code",
   "execution_count": 1,
   "metadata": {},
   "outputs": [],
   "source": [
    "import math"
   ]
  },
  {
   "cell_type": "code",
   "execution_count": 22,
   "metadata": {},
   "outputs": [
    {
     "name": "stdout",
     "output_type": "stream",
     "text": [
      "Day: 13\n",
      "Month: 01\n",
      "Year: 2025\n",
      "\n",
      "Day: 14\n",
      "Month: 01\n",
      "Year: 2025\n",
      "\n"
     ]
    }
   ],
   "source": [
    "import re\n",
    "\n",
    "pattern = r\"(\\d{2})-(\\d{2})-(\\d{4})\"\n",
    "string = \"13-01-2025, and tomorrow's date is 14-01-2025.\"\n",
    "\n",
    "matches = re.findall(pattern, string)\n",
    "for match in matches:\n",
    "    print(\"Day:\", match[0])\n",
    "    print(\"Month:\", match[1])\n",
    "    print(\"Year:\", match[2])\n",
    "    print()\n"
   ]
  }
 ],
 "metadata": {
  "kernelspec": {
   "display_name": "Python 3",
   "language": "python",
   "name": "python3"
  },
  "language_info": {
   "codemirror_mode": {
    "name": "ipython",
    "version": 3
   },
   "file_extension": ".py",
   "mimetype": "text/x-python",
   "name": "python",
   "nbconvert_exporter": "python",
   "pygments_lexer": "ipython3",
   "version": "3.11.9"
  }
 },
 "nbformat": 4,
 "nbformat_minor": 2
}
